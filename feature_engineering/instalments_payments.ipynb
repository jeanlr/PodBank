{
 "cells": [
  {
   "cell_type": "markdown",
   "metadata": {},
   "source": [
    "### Bibliotecas e pacotes"
   ]
  },
  {
   "cell_type": "code",
   "execution_count": 1,
   "metadata": {},
   "outputs": [],
   "source": [
    "import pyspark\n",
    "from pyspark.sql import SparkSession\n",
    "from pyspark.sql.functions import col, round, sum, avg, max, min, when, countDistinct, count, date_format, current_date"
   ]
  },
  {
   "cell_type": "code",
   "execution_count": 2,
   "metadata": {},
   "outputs": [],
   "source": [
    "#configurando sessão\n",
    "from pyspark.sql import SparkSession\n",
    "spark = SparkSession \\\n",
    "        .builder \\\n",
    "        .appName(\"Instalments\") \\\n",
    "        .master(\"local[*]\") \\\n",
    "        .config(\"spark.driver.memory\", \"4g\") \\\n",
    "        .config(\"spark.executor.memory\", \"4g\") \\\n",
    "        .getOrCreate()"
   ]
  },
  {
   "cell_type": "markdown",
   "metadata": {},
   "source": [
    "### Utilizando spark para ler os dados"
   ]
  },
  {
   "cell_type": "code",
   "execution_count": 4,
   "metadata": {},
   "outputs": [],
   "source": [
    "dados_instalments = spark.read.csv(\"../database/raw/installments_payments.csv\", header=True, inferSchema=True)\n",
    "dados_instalments.createOrReplaceTempView(\"dados_instalments\")"
   ]
  },
  {
   "cell_type": "code",
   "execution_count": 5,
   "metadata": {},
   "outputs": [
    {
     "name": "stdout",
     "output_type": "stream",
     "text": [
      "+----------+----------+----------------------+---------------------+---------------+------------------+--------------+-----------+\n",
      "|SK_ID_PREV|SK_ID_CURR|NUM_INSTALMENT_VERSION|NUM_INSTALMENT_NUMBER|DAYS_INSTALMENT|DAYS_ENTRY_PAYMENT|AMT_INSTALMENT|AMT_PAYMENT|\n",
      "+----------+----------+----------------------+---------------------+---------------+------------------+--------------+-----------+\n",
      "|   1054186|    161674|                   1.0|                    6|        -1180.0|           -1187.0|       6948.36|    6948.36|\n",
      "|   1330831|    151639|                   0.0|                   34|        -2156.0|           -2156.0|      1716.525|   1716.525|\n",
      "|   2085231|    193053|                   2.0|                    1|          -63.0|             -63.0|       25425.0|    25425.0|\n",
      "|   2452527|    199697|                   1.0|                    3|        -2418.0|           -2426.0|      24350.13|   24350.13|\n",
      "|   2714724|    167756|                   1.0|                    2|        -1383.0|           -1366.0|       2165.04|   2160.585|\n",
      "+----------+----------+----------------------+---------------------+---------------+------------------+--------------+-----------+\n",
      "only showing top 5 rows\n",
      "\n"
     ]
    }
   ],
   "source": [
    "dados_instalments.show(5)"
   ]
  },
  {
   "cell_type": "markdown",
   "metadata": {},
   "source": [
    "### Verificando quantidade de linhas e colunas no dataframe"
   ]
  },
  {
   "cell_type": "code",
   "execution_count": 6,
   "metadata": {},
   "outputs": [
    {
     "name": "stdout",
     "output_type": "stream",
     "text": [
      "Quantidade de linhas do DataFrame: 13605401\n",
      "Quantidade de colunas do DataFrame: 8\n",
      "+-----------------------+\n",
      "|distinct_id_instalments|\n",
      "+-----------------------+\n",
      "|                 997752|\n",
      "+-----------------------+\n",
      "\n"
     ]
    }
   ],
   "source": [
    "# Verificando a quantidade de linhas e colunas do DataFrame.\n",
    "\n",
    "# Quantidade de linhas.\n",
    "qtt_rows = dados_instalments.count()\n",
    "\n",
    "# Quantidade de colunas.\n",
    "qtt_columns = len(dados_instalments.columns)\n",
    "\n",
    "# Quantidade de IDs únicos.\n",
    "distinct_id_instalments = spark.sql('''SELECT COUNT(DISTINCT `SK_ID_PREV`) as distinct_id_instalments FROM dados_instalments ''')\n",
    "distinct_id_instalments.createOrReplaceTempView(\"distinct_id_instalments\")\n",
    "\n",
    "# Imprimir o resultado.\n",
    "print(f'Quantidade de linhas do DataFrame: {qtt_rows}')\n",
    "print(f'Quantidade de colunas do DataFrame: {qtt_columns}')\n",
    "distinct_id_instalments.show()"
   ]
  },
  {
   "cell_type": "markdown",
   "metadata": {},
   "source": [
    "### Criando flags de janela temporal"
   ]
  },
  {
   "cell_type": "code",
   "execution_count": 8,
   "metadata": {},
   "outputs": [
    {
     "name": "stdout",
     "output_type": "stream",
     "text": [
      "+----------+----------+----------------------+---------------------+---------------+------------------+--------------+-----------+---+---+----+----+----+\n",
      "|SK_ID_PREV|SK_ID_CURR|NUM_INSTALMENT_VERSION|NUM_INSTALMENT_NUMBER|DAYS_INSTALMENT|DAYS_ENTRY_PAYMENT|AMT_INSTALMENT|AMT_PAYMENT|U3M|U6M|U12M|U24M|U36M|\n",
      "+----------+----------+----------------------+---------------------+---------------+------------------+--------------+-----------+---+---+----+----+----+\n",
      "|   1000001|    158271|                   1.0|                    1|         -268.0|            -294.0|       6404.31|    6404.31|  0|  0|   1|   1|   1|\n",
      "|   1000001|    158271|                   2.0|                    2|         -238.0|            -244.0|     62039.115|  62039.115|  0|  0|   1|   1|   1|\n",
      "|   1000002|    101962|                   1.0|                    3|        -1540.0|           -1559.0|        6264.0|     6264.0|  0|  0|   0|   0|   0|\n",
      "|   1000002|    101962|                   1.0|                    1|        -1600.0|           -1611.0|        6264.0|     6264.0|  0|  0|   0|   0|   0|\n",
      "|   1000002|    101962|                   2.0|                    4|        -1510.0|           -1554.0|     18443.565|  18443.565|  0|  0|   0|   0|   0|\n",
      "|   1000002|    101962|                   1.0|                    2|        -1570.0|           -1575.0|        6264.0|     6264.0|  0|  0|   0|   0|   0|\n",
      "|   1000003|    252457|                   1.0|                    3|          -34.0|             -49.0|       4951.35|    4951.35|  1|  1|   1|   1|   1|\n",
      "|   1000003|    252457|                   1.0|                    2|          -64.0|             -81.0|       4951.35|    4951.35|  1|  1|   1|   1|   1|\n",
      "|   1000003|    252457|                   1.0|                    1|          -94.0|            -108.0|       4951.35|    4951.35|  0|  1|   1|   1|   1|\n",
      "|   1000004|    260094|                   1.0|                    6|         -712.0|            -752.0|       3391.11|    3391.11|  0|  0|   0|   1|   1|\n",
      "|   1000004|    260094|                   2.0|                    7|         -682.0|            -695.0|     13176.495|  13176.495|  0|  0|   0|   1|   1|\n",
      "|   1000004|    260094|                   1.0|                    1|         -862.0|            -881.0|       3391.11|    3391.11|  0|  0|   0|   0|   1|\n",
      "|   1000004|    260094|                   1.0|                    5|         -742.0|            -752.0|       3391.11|    3391.11|  0|  0|   0|   0|   1|\n",
      "|   1000004|    260094|                   1.0|                    4|         -772.0|            -830.0|       3391.11|    3391.11|  0|  0|   0|   0|   1|\n",
      "|   1000004|    260094|                   1.0|                    2|         -832.0|            -851.0|       3391.11|    3391.11|  0|  0|   0|   0|   1|\n",
      "|   1000004|    260094|                   1.0|                    3|         -802.0|            -830.0|       3391.11|    3391.11|  0|  0|   0|   0|   1|\n",
      "|   1000005|    176456|                   1.0|                    6|        -1538.0|           -1545.0|     14713.605|  14713.605|  0|  0|   0|   0|   0|\n",
      "|   1000005|    176456|                   1.0|                    9|        -1448.0|           -1445.0|     14713.605|  14710.815|  0|  0|   0|   0|   0|\n",
      "|   1000005|    176456|                   1.0|                    5|        -1568.0|           -1575.0|     14713.605|  14713.605|  0|  0|   0|   0|   0|\n",
      "|   1000005|    176456|                   1.0|                    1|        -1688.0|           -1687.0|     14713.605|  14713.605|  0|  0|   0|   0|   0|\n",
      "+----------+----------+----------------------+---------------------+---------------+------------------+--------------+-----------+---+---+----+----+----+\n",
      "only showing top 20 rows\n",
      "\n"
     ]
    }
   ],
   "source": [
    "df_temp_01 = spark.sql('''\n",
    "  SELECT\n",
    "    *,\n",
    "    CASE WHEN DAYS_INSTALMENT >= -90 THEN 1 ELSE 0 END AS U3M,\n",
    "    CASE WHEN DAYS_INSTALMENT >= -180 THEN 1 ELSE 0 END AS U6M,\n",
    "    CASE WHEN DAYS_INSTALMENT >= -360 THEN 1 ELSE 0 END AS U12M,\n",
    "    CASE WHEN DAYS_INSTALMENT >= -720 THEN 1 ELSE 0 END AS U24M,\n",
    "    CASE WHEN DAYS_INSTALMENT >= -1080 THEN 1 ELSE 0 END AS U36M\n",
    "  FROM dados_instalments\n",
    "  ORDER BY SK_ID_PREV\n",
    "''')\n",
    "\n",
    "df_temp_01.createOrReplaceTempView('df_temp_01')\n",
    "df_temp_01.show()"
   ]
  },
  {
   "cell_type": "markdown",
   "metadata": {},
   "source": [
    "### Criando variáveis de primeira camada"
   ]
  },
  {
   "cell_type": "code",
   "execution_count": 9,
   "metadata": {},
   "outputs": [
    {
     "name": "stdout",
     "output_type": "stream",
     "text": [
      "Quantidade Total de Variáveis Criadas: 60\n",
      "Nomes das Variáveis Criadas: ['QT_MAX_DAYS_INSTALMENT_U3M_INSTALLMENTS', 'QT_MIN_DAYS_INSTALMENT_U3M_INSTALLMENTS', 'QT_MAX_DAYS_INSTALMENT_U6M_INSTALLMENTS', 'QT_MIN_DAYS_INSTALMENT_U6M_INSTALLMENTS', 'QT_MAX_DAYS_INSTALMENT_U12M_INSTALLMENTS', 'QT_MIN_DAYS_INSTALMENT_U12M_INSTALLMENTS', 'QT_MAX_DAYS_INSTALMENT_U24M_INSTALLMENTS', 'QT_MIN_DAYS_INSTALMENT_U24M_INSTALLMENTS', 'QT_MAX_DAYS_INSTALMENT_U36M_INSTALLMENTS', 'QT_MIN_DAYS_INSTALMENT_U36M_INSTALLMENTS', 'QT_MAX_DAYS_ENTRY_PAYMENT_U3M_INSTALLMENTS', 'QT_MIN_DAYS_ENTRY_PAYMENT_U3M_INSTALLMENTS', 'QT_MAX_DAYS_ENTRY_PAYMENT_U6M_INSTALLMENTS', 'QT_MIN_DAYS_ENTRY_PAYMENT_U6M_INSTALLMENTS', 'QT_MAX_DAYS_ENTRY_PAYMENT_U12M_INSTALLMENTS', 'QT_MIN_DAYS_ENTRY_PAYMENT_U12M_INSTALLMENTS', 'QT_MAX_DAYS_ENTRY_PAYMENT_U24M_INSTALLMENTS', 'QT_MIN_DAYS_ENTRY_PAYMENT_U24M_INSTALLMENTS', 'QT_MAX_DAYS_ENTRY_PAYMENT_U36M_INSTALLMENTS', 'QT_MIN_DAYS_ENTRY_PAYMENT_U36M_INSTALLMENTS', 'VL_TOT_AMT_INSTALMENT_U3M_INSTALLMENTS', 'VL_MED_AMT_INSTALMENT_U3M_INSTALLMENTS', 'VL_MAX_AMT_INSTALMENT_U3M_INSTALLMENTS', 'VL_MIN_AMT_INSTALMENT_U3M_INSTALLMENTS', 'VL_TOT_AMT_INSTALMENT_U6M_INSTALLMENTS', 'VL_MED_AMT_INSTALMENT_U6M_INSTALLMENTS', 'VL_MAX_AMT_INSTALMENT_U6M_INSTALLMENTS', 'VL_MIN_AMT_INSTALMENT_U6M_INSTALLMENTS', 'VL_TOT_AMT_INSTALMENT_U12M_INSTALLMENTS', 'VL_MED_AMT_INSTALMENT_U12M_INSTALLMENTS', 'VL_MAX_AMT_INSTALMENT_U12M_INSTALLMENTS', 'VL_MIN_AMT_INSTALMENT_U12M_INSTALLMENTS', 'VL_TOT_AMT_INSTALMENT_U24M_INSTALLMENTS', 'VL_MED_AMT_INSTALMENT_U24M_INSTALLMENTS', 'VL_MAX_AMT_INSTALMENT_U24M_INSTALLMENTS', 'VL_MIN_AMT_INSTALMENT_U24M_INSTALLMENTS', 'VL_TOT_AMT_INSTALMENT_U36M_INSTALLMENTS', 'VL_MED_AMT_INSTALMENT_U36M_INSTALLMENTS', 'VL_MAX_AMT_INSTALMENT_U36M_INSTALLMENTS', 'VL_MIN_AMT_INSTALMENT_U36M_INSTALLMENTS', 'VL_TOT_AMT_PAYMENT_U3M_INSTALLMENTS', 'VL_MED_AMT_PAYMENT_U3M_INSTALLMENTS', 'VL_MAX_AMT_PAYMENT_U3M_INSTALLMENTS', 'VL_MIN_AMT_PAYMENT_U3M_INSTALLMENTS', 'VL_TOT_AMT_PAYMENT_U6M_INSTALLMENTS', 'VL_MED_AMT_PAYMENT_U6M_INSTALLMENTS', 'VL_MAX_AMT_PAYMENT_U6M_INSTALLMENTS', 'VL_MIN_AMT_PAYMENT_U6M_INSTALLMENTS', 'VL_TOT_AMT_PAYMENT_U12M_INSTALLMENTS', 'VL_MED_AMT_PAYMENT_U12M_INSTALLMENTS', 'VL_MAX_AMT_PAYMENT_U12M_INSTALLMENTS', 'VL_MIN_AMT_PAYMENT_U12M_INSTALLMENTS', 'VL_TOT_AMT_PAYMENT_U24M_INSTALLMENTS', 'VL_MED_AMT_PAYMENT_U24M_INSTALLMENTS', 'VL_MAX_AMT_PAYMENT_U24M_INSTALLMENTS', 'VL_MIN_AMT_PAYMENT_U24M_INSTALLMENTS', 'VL_TOT_AMT_PAYMENT_U36M_INSTALLMENTS', 'VL_MED_AMT_PAYMENT_U36M_INSTALLMENTS', 'VL_MAX_AMT_PAYMENT_U36M_INSTALLMENTS', 'VL_MIN_AMT_PAYMENT_U36M_INSTALLMENTS']\n",
      "\n",
      "\n",
      "Quantidade de linhas do DataFrame: 997752\n",
      "Quantidade de colunas do DataFrame: 61\n",
      "\n",
      "\n",
      "+----------+---------------------------------------+---------------------------------------+---------------------------------------+---------------------------------------+----------------------------------------+----------------------------------------+----------------------------------------+----------------------------------------+----------------------------------------+----------------------------------------+------------------------------------------+------------------------------------------+------------------------------------------+------------------------------------------+-------------------------------------------+-------------------------------------------+-------------------------------------------+-------------------------------------------+-------------------------------------------+-------------------------------------------+--------------------------------------+--------------------------------------+--------------------------------------+--------------------------------------+--------------------------------------+--------------------------------------+--------------------------------------+--------------------------------------+---------------------------------------+---------------------------------------+---------------------------------------+---------------------------------------+---------------------------------------+---------------------------------------+---------------------------------------+---------------------------------------+---------------------------------------+---------------------------------------+---------------------------------------+---------------------------------------+-----------------------------------+-----------------------------------+-----------------------------------+-----------------------------------+-----------------------------------+-----------------------------------+-----------------------------------+-----------------------------------+------------------------------------+------------------------------------+------------------------------------+------------------------------------+------------------------------------+------------------------------------+------------------------------------+------------------------------------+------------------------------------+------------------------------------+------------------------------------+------------------------------------+\n",
      "|SK_ID_PREV|QT_MAX_DAYS_INSTALMENT_U3M_INSTALLMENTS|QT_MIN_DAYS_INSTALMENT_U3M_INSTALLMENTS|QT_MAX_DAYS_INSTALMENT_U6M_INSTALLMENTS|QT_MIN_DAYS_INSTALMENT_U6M_INSTALLMENTS|QT_MAX_DAYS_INSTALMENT_U12M_INSTALLMENTS|QT_MIN_DAYS_INSTALMENT_U12M_INSTALLMENTS|QT_MAX_DAYS_INSTALMENT_U24M_INSTALLMENTS|QT_MIN_DAYS_INSTALMENT_U24M_INSTALLMENTS|QT_MAX_DAYS_INSTALMENT_U36M_INSTALLMENTS|QT_MIN_DAYS_INSTALMENT_U36M_INSTALLMENTS|QT_MAX_DAYS_ENTRY_PAYMENT_U3M_INSTALLMENTS|QT_MIN_DAYS_ENTRY_PAYMENT_U3M_INSTALLMENTS|QT_MAX_DAYS_ENTRY_PAYMENT_U6M_INSTALLMENTS|QT_MIN_DAYS_ENTRY_PAYMENT_U6M_INSTALLMENTS|QT_MAX_DAYS_ENTRY_PAYMENT_U12M_INSTALLMENTS|QT_MIN_DAYS_ENTRY_PAYMENT_U12M_INSTALLMENTS|QT_MAX_DAYS_ENTRY_PAYMENT_U24M_INSTALLMENTS|QT_MIN_DAYS_ENTRY_PAYMENT_U24M_INSTALLMENTS|QT_MAX_DAYS_ENTRY_PAYMENT_U36M_INSTALLMENTS|QT_MIN_DAYS_ENTRY_PAYMENT_U36M_INSTALLMENTS|VL_TOT_AMT_INSTALMENT_U3M_INSTALLMENTS|VL_MED_AMT_INSTALMENT_U3M_INSTALLMENTS|VL_MAX_AMT_INSTALMENT_U3M_INSTALLMENTS|VL_MIN_AMT_INSTALMENT_U3M_INSTALLMENTS|VL_TOT_AMT_INSTALMENT_U6M_INSTALLMENTS|VL_MED_AMT_INSTALMENT_U6M_INSTALLMENTS|VL_MAX_AMT_INSTALMENT_U6M_INSTALLMENTS|VL_MIN_AMT_INSTALMENT_U6M_INSTALLMENTS|VL_TOT_AMT_INSTALMENT_U12M_INSTALLMENTS|VL_MED_AMT_INSTALMENT_U12M_INSTALLMENTS|VL_MAX_AMT_INSTALMENT_U12M_INSTALLMENTS|VL_MIN_AMT_INSTALMENT_U12M_INSTALLMENTS|VL_TOT_AMT_INSTALMENT_U24M_INSTALLMENTS|VL_MED_AMT_INSTALMENT_U24M_INSTALLMENTS|VL_MAX_AMT_INSTALMENT_U24M_INSTALLMENTS|VL_MIN_AMT_INSTALMENT_U24M_INSTALLMENTS|VL_TOT_AMT_INSTALMENT_U36M_INSTALLMENTS|VL_MED_AMT_INSTALMENT_U36M_INSTALLMENTS|VL_MAX_AMT_INSTALMENT_U36M_INSTALLMENTS|VL_MIN_AMT_INSTALMENT_U36M_INSTALLMENTS|VL_TOT_AMT_PAYMENT_U3M_INSTALLMENTS|VL_MED_AMT_PAYMENT_U3M_INSTALLMENTS|VL_MAX_AMT_PAYMENT_U3M_INSTALLMENTS|VL_MIN_AMT_PAYMENT_U3M_INSTALLMENTS|VL_TOT_AMT_PAYMENT_U6M_INSTALLMENTS|VL_MED_AMT_PAYMENT_U6M_INSTALLMENTS|VL_MAX_AMT_PAYMENT_U6M_INSTALLMENTS|VL_MIN_AMT_PAYMENT_U6M_INSTALLMENTS|VL_TOT_AMT_PAYMENT_U12M_INSTALLMENTS|VL_MED_AMT_PAYMENT_U12M_INSTALLMENTS|VL_MAX_AMT_PAYMENT_U12M_INSTALLMENTS|VL_MIN_AMT_PAYMENT_U12M_INSTALLMENTS|VL_TOT_AMT_PAYMENT_U24M_INSTALLMENTS|VL_MED_AMT_PAYMENT_U24M_INSTALLMENTS|VL_MAX_AMT_PAYMENT_U24M_INSTALLMENTS|VL_MIN_AMT_PAYMENT_U24M_INSTALLMENTS|VL_TOT_AMT_PAYMENT_U36M_INSTALLMENTS|VL_MED_AMT_PAYMENT_U36M_INSTALLMENTS|VL_MAX_AMT_PAYMENT_U36M_INSTALLMENTS|VL_MIN_AMT_PAYMENT_U36M_INSTALLMENTS|\n",
      "+----------+---------------------------------------+---------------------------------------+---------------------------------------+---------------------------------------+----------------------------------------+----------------------------------------+----------------------------------------+----------------------------------------+----------------------------------------+----------------------------------------+------------------------------------------+------------------------------------------+------------------------------------------+------------------------------------------+-------------------------------------------+-------------------------------------------+-------------------------------------------+-------------------------------------------+-------------------------------------------+-------------------------------------------+--------------------------------------+--------------------------------------+--------------------------------------+--------------------------------------+--------------------------------------+--------------------------------------+--------------------------------------+--------------------------------------+---------------------------------------+---------------------------------------+---------------------------------------+---------------------------------------+---------------------------------------+---------------------------------------+---------------------------------------+---------------------------------------+---------------------------------------+---------------------------------------+---------------------------------------+---------------------------------------+-----------------------------------+-----------------------------------+-----------------------------------+-----------------------------------+-----------------------------------+-----------------------------------+-----------------------------------+-----------------------------------+------------------------------------+------------------------------------+------------------------------------+------------------------------------+------------------------------------+------------------------------------+------------------------------------+------------------------------------+------------------------------------+------------------------------------+------------------------------------+------------------------------------+\n",
      "|1000001   |NULL                                   |NULL                                   |NULL                                   |NULL                                   |-238.0                                  |-268.0                                  |-238.0                                  |-268.0                                  |-238.0                                  |-268.0                                  |NULL                                      |NULL                                      |NULL                                      |NULL                                      |-244.0                                     |-294.0                                     |-244.0                                     |-294.0                                     |-244.0                                     |-294.0                                     |NULL                                  |NULL                                  |NULL                                  |NULL                                  |NULL                                  |NULL                                  |NULL                                  |NULL                                  |68443.43                               |34221.71                               |62039.12                               |6404.31                                |68443.43                               |34221.71                               |62039.12                               |6404.31                                |68443.43                               |34221.71                               |62039.12                               |6404.31                                |NULL                               |NULL                               |NULL                               |NULL                               |NULL                               |NULL                               |NULL                               |NULL                               |68443.43                            |34221.71                            |62039.12                            |6404.31                             |68443.43                            |34221.71                            |62039.12                            |6404.31                             |68443.43                            |34221.71                            |62039.12                            |6404.31                             |\n",
      "|1000002   |NULL                                   |NULL                                   |NULL                                   |NULL                                   |NULL                                    |NULL                                    |NULL                                    |NULL                                    |NULL                                    |NULL                                    |NULL                                      |NULL                                      |NULL                                      |NULL                                      |NULL                                       |NULL                                       |NULL                                       |NULL                                       |NULL                                       |NULL                                       |NULL                                  |NULL                                  |NULL                                  |NULL                                  |NULL                                  |NULL                                  |NULL                                  |NULL                                  |NULL                                   |NULL                                   |NULL                                   |NULL                                   |NULL                                   |NULL                                   |NULL                                   |NULL                                   |NULL                                   |NULL                                   |NULL                                   |NULL                                   |NULL                               |NULL                               |NULL                               |NULL                               |NULL                               |NULL                               |NULL                               |NULL                               |NULL                                |NULL                                |NULL                                |NULL                                |NULL                                |NULL                                |NULL                                |NULL                                |NULL                                |NULL                                |NULL                                |NULL                                |\n",
      "|1000003   |-34.0                                  |-64.0                                  |-34.0                                  |-94.0                                  |-34.0                                   |-94.0                                   |-34.0                                   |-94.0                                   |-34.0                                   |-94.0                                   |-49.0                                     |-81.0                                     |-49.0                                     |-108.0                                    |-49.0                                      |-108.0                                     |-49.0                                      |-108.0                                     |-49.0                                      |-108.0                                     |9902.7                                |4951.35                               |4951.35                               |4951.35                               |14854.05                              |4951.35                               |4951.35                               |4951.35                               |14854.05                               |4951.35                                |4951.35                                |4951.35                                |14854.05                               |4951.35                                |4951.35                                |4951.35                                |14854.05                               |4951.35                                |4951.35                                |4951.35                                |9902.7                             |4951.35                            |4951.35                            |4951.35                            |14854.05                           |4951.35                            |4951.35                            |4951.35                            |14854.05                            |4951.35                             |4951.35                             |4951.35                             |14854.05                            |4951.35                             |4951.35                             |4951.35                             |14854.05                            |4951.35                             |4951.35                             |4951.35                             |\n",
      "|1000004   |NULL                                   |NULL                                   |NULL                                   |NULL                                   |NULL                                    |NULL                                    |-682.0                                  |-712.0                                  |-682.0                                  |-862.0                                  |NULL                                      |NULL                                      |NULL                                      |NULL                                      |NULL                                       |NULL                                       |-695.0                                     |-752.0                                     |-695.0                                     |-881.0                                     |NULL                                  |NULL                                  |NULL                                  |NULL                                  |NULL                                  |NULL                                  |NULL                                  |NULL                                  |NULL                                   |NULL                                   |NULL                                   |NULL                                   |16567.61                               |8283.8                                 |13176.5                                |3391.11                                |33523.16                               |4789.02                                |13176.5                                |3391.11                                |NULL                               |NULL                               |NULL                               |NULL                               |NULL                               |NULL                               |NULL                               |NULL                               |NULL                                |NULL                                |NULL                                |NULL                                |16567.61                            |8283.8                              |13176.5                             |3391.11                             |33523.16                            |4789.02                             |13176.5                             |3391.11                             |\n",
      "|1000005   |NULL                                   |NULL                                   |NULL                                   |NULL                                   |NULL                                    |NULL                                    |NULL                                    |NULL                                    |NULL                                    |NULL                                    |NULL                                      |NULL                                      |NULL                                      |NULL                                      |NULL                                       |NULL                                       |NULL                                       |NULL                                       |NULL                                       |NULL                                       |NULL                                  |NULL                                  |NULL                                  |NULL                                  |NULL                                  |NULL                                  |NULL                                  |NULL                                  |NULL                                   |NULL                                   |NULL                                   |NULL                                   |NULL                                   |NULL                                   |NULL                                   |NULL                                   |NULL                                   |NULL                                   |NULL                                   |NULL                                   |NULL                               |NULL                               |NULL                               |NULL                               |NULL                               |NULL                               |NULL                               |NULL                               |NULL                                |NULL                                |NULL                                |NULL                                |NULL                                |NULL                                |NULL                                |NULL                                |NULL                                |NULL                                |NULL                                |NULL                                |\n",
      "+----------+---------------------------------------+---------------------------------------+---------------------------------------+---------------------------------------+----------------------------------------+----------------------------------------+----------------------------------------+----------------------------------------+----------------------------------------+----------------------------------------+------------------------------------------+------------------------------------------+------------------------------------------+------------------------------------------+-------------------------------------------+-------------------------------------------+-------------------------------------------+-------------------------------------------+-------------------------------------------+-------------------------------------------+--------------------------------------+--------------------------------------+--------------------------------------+--------------------------------------+--------------------------------------+--------------------------------------+--------------------------------------+--------------------------------------+---------------------------------------+---------------------------------------+---------------------------------------+---------------------------------------+---------------------------------------+---------------------------------------+---------------------------------------+---------------------------------------+---------------------------------------+---------------------------------------+---------------------------------------+---------------------------------------+-----------------------------------+-----------------------------------+-----------------------------------+-----------------------------------+-----------------------------------+-----------------------------------+-----------------------------------+-----------------------------------+------------------------------------+------------------------------------+------------------------------------+------------------------------------+------------------------------------+------------------------------------+------------------------------------+------------------------------------+------------------------------------+------------------------------------+------------------------------------+------------------------------------+\n",
      "only showing top 5 rows\n",
      "\n"
     ]
    }
   ],
   "source": [
    "# Definindo as colunas para a agregação.\n",
    "colunas_agregacao_total = df_temp_01.columns\n",
    "colunas_agregacao_total.remove('SK_ID_CURR')\n",
    "colunas_agregacao_total.remove('SK_ID_PREV')\n",
    "colunas_agregacao_total.remove('NUM_INSTALMENT_VERSION')\n",
    "colunas_agregacao_total.remove('NUM_INSTALMENT_NUMBER')\n",
    "\n",
    "# Defindo a lista de colunas de flags.\n",
    "colunas_flags = ['U3M', 'U6M', 'U12M', 'U24M', 'U36M']\n",
    "\n",
    "# Criando uma lista vazia.\n",
    "expressoes_agregacao = []\n",
    "\n",
    "# Iterando sobre as colunas e criando as variáveis explicativas com as agregações.\n",
    "for coluna in colunas_agregacao_total:\n",
    "  # Verifica se a coluna atual não é uma coluna de flag.\n",
    "  if not any(flag in coluna for flag in colunas_flags):\n",
    "    for flag in colunas_flags:\n",
    "      if 'DAYS' in coluna:\n",
    "        expressoes_agregacao.append(round(max(when(col(flag) == 1, col(coluna))), 2).alias(f'QT_MAX_{coluna.upper()}_{flag.upper()}_INSTALLMENTS'))\n",
    "        expressoes_agregacao.append(round(min(when(col(flag) == 1, col(coluna))), 2).alias(f'QT_MIN_{coluna.upper()}_{flag.upper()}_INSTALLMENTS'))\n",
    "      else:\n",
    "        expressoes_agregacao.append(round(sum(when(col(flag) == 1, col(coluna))), 2).alias(f'VL_TOT_{coluna.upper()}_{flag.upper()}_INSTALLMENTS'))\n",
    "        expressoes_agregacao.append(round(avg(when(col(flag) == 1, col(coluna))), 2).alias(f'VL_MED_{coluna.upper()}_{flag.upper()}_INSTALLMENTS'))\n",
    "        expressoes_agregacao.append(round(max(when(col(flag) == 1, col(coluna))), 2).alias(f'VL_MAX_{coluna.upper()}_{flag.upper()}_INSTALLMENTS'))\n",
    "        expressoes_agregacao.append(round(min(when(col(flag) == 1, col(coluna))), 2).alias(f'VL_MIN_{coluna.upper()}_{flag.upper()}_INSTALLMENTS'))\n",
    "\n",
    "# Criando uma tupla com as variáveis criadas.\n",
    "expressoes_agregacao = tuple(expressoes_agregacao)\n",
    "\n",
    "# Aplicando as expressões de agregação.\n",
    "df_temp_02 = df_temp_01.groupBy('SK_ID_PREV').agg(*expressoes_agregacao).orderBy('SK_ID_PREV')\n",
    "\n",
    "\n",
    "# Quantidade e nome das variáveis criadas.\n",
    "nomes_cols = df_temp_02.columns\n",
    "nomes_cols_novas = nomes_cols[1:]\n",
    "print('Quantidade Total de Variáveis Criadas:', len(df_temp_02.columns) - 1)\n",
    "print('Nomes das Variáveis Criadas:', nomes_cols_novas)\n",
    "print('')\n",
    "print('')\n",
    "\n",
    "# Quantidade de linhas do DataFrame.\n",
    "num_rows_df = df_temp_02.count()\n",
    "\n",
    "# Quantidade de colunas do DataFrame.\n",
    "num_columns_df = len(df_temp_02.columns)\n",
    "\n",
    "# Imprimir o resultado de número de linhas e colunas.\n",
    "print(f'Quantidade de linhas do DataFrame: {num_rows_df}')\n",
    "print(f'Quantidade de colunas do DataFrame: {num_columns_df}')\n",
    "print('')\n",
    "print('')\n",
    "\n",
    "# Mostrando o novo DataFrame com as variáveis criadas.\n",
    "df_temp_02.show(5, False)"
   ]
  },
  {
   "cell_type": "markdown",
   "metadata": {},
   "source": []
  },
  {
   "cell_type": "code",
   "execution_count": 10,
   "metadata": {},
   "outputs": [
    {
     "name": "stdout",
     "output_type": "stream",
     "text": [
      "Quantidade Total de Variáveis Criadas: 60\n",
      "Nomes das Variáveis Criadas: ['QT_MAX_DAYS_INSTALMENT_U3M_INSTALLMENTS', 'QT_MIN_DAYS_INSTALMENT_U3M_INSTALLMENTS', 'QT_MAX_DAYS_INSTALMENT_U6M_INSTALLMENTS', 'QT_MIN_DAYS_INSTALMENT_U6M_INSTALLMENTS', 'QT_MAX_DAYS_INSTALMENT_U12M_INSTALLMENTS', 'QT_MIN_DAYS_INSTALMENT_U12M_INSTALLMENTS', 'QT_MAX_DAYS_INSTALMENT_U24M_INSTALLMENTS', 'QT_MIN_DAYS_INSTALMENT_U24M_INSTALLMENTS', 'QT_MAX_DAYS_INSTALMENT_U36M_INSTALLMENTS', 'QT_MIN_DAYS_INSTALMENT_U36M_INSTALLMENTS', 'QT_MAX_DAYS_ENTRY_PAYMENT_U3M_INSTALLMENTS', 'QT_MIN_DAYS_ENTRY_PAYMENT_U3M_INSTALLMENTS', 'QT_MAX_DAYS_ENTRY_PAYMENT_U6M_INSTALLMENTS', 'QT_MIN_DAYS_ENTRY_PAYMENT_U6M_INSTALLMENTS', 'QT_MAX_DAYS_ENTRY_PAYMENT_U12M_INSTALLMENTS', 'QT_MIN_DAYS_ENTRY_PAYMENT_U12M_INSTALLMENTS', 'QT_MAX_DAYS_ENTRY_PAYMENT_U24M_INSTALLMENTS', 'QT_MIN_DAYS_ENTRY_PAYMENT_U24M_INSTALLMENTS', 'QT_MAX_DAYS_ENTRY_PAYMENT_U36M_INSTALLMENTS', 'QT_MIN_DAYS_ENTRY_PAYMENT_U36M_INSTALLMENTS', 'VL_TOT_AMT_INSTALMENT_U3M_INSTALLMENTS', 'VL_MED_AMT_INSTALMENT_U3M_INSTALLMENTS', 'VL_MAX_AMT_INSTALMENT_U3M_INSTALLMENTS', 'VL_MIN_AMT_INSTALMENT_U3M_INSTALLMENTS', 'VL_TOT_AMT_INSTALMENT_U6M_INSTALLMENTS', 'VL_MED_AMT_INSTALMENT_U6M_INSTALLMENTS', 'VL_MAX_AMT_INSTALMENT_U6M_INSTALLMENTS', 'VL_MIN_AMT_INSTALMENT_U6M_INSTALLMENTS', 'VL_TOT_AMT_INSTALMENT_U12M_INSTALLMENTS', 'VL_MED_AMT_INSTALMENT_U12M_INSTALLMENTS', 'VL_MAX_AMT_INSTALMENT_U12M_INSTALLMENTS', 'VL_MIN_AMT_INSTALMENT_U12M_INSTALLMENTS', 'VL_TOT_AMT_INSTALMENT_U24M_INSTALLMENTS', 'VL_MED_AMT_INSTALMENT_U24M_INSTALLMENTS', 'VL_MAX_AMT_INSTALMENT_U24M_INSTALLMENTS', 'VL_MIN_AMT_INSTALMENT_U24M_INSTALLMENTS', 'VL_TOT_AMT_INSTALMENT_U36M_INSTALLMENTS', 'VL_MED_AMT_INSTALMENT_U36M_INSTALLMENTS', 'VL_MAX_AMT_INSTALMENT_U36M_INSTALLMENTS', 'VL_MIN_AMT_INSTALMENT_U36M_INSTALLMENTS', 'VL_TOT_AMT_PAYMENT_U3M_INSTALLMENTS', 'VL_MED_AMT_PAYMENT_U3M_INSTALLMENTS', 'VL_MAX_AMT_PAYMENT_U3M_INSTALLMENTS', 'VL_MIN_AMT_PAYMENT_U3M_INSTALLMENTS', 'VL_TOT_AMT_PAYMENT_U6M_INSTALLMENTS', 'VL_MED_AMT_PAYMENT_U6M_INSTALLMENTS', 'VL_MAX_AMT_PAYMENT_U6M_INSTALLMENTS', 'VL_MIN_AMT_PAYMENT_U6M_INSTALLMENTS', 'VL_TOT_AMT_PAYMENT_U12M_INSTALLMENTS', 'VL_MED_AMT_PAYMENT_U12M_INSTALLMENTS', 'VL_MAX_AMT_PAYMENT_U12M_INSTALLMENTS', 'VL_MIN_AMT_PAYMENT_U12M_INSTALLMENTS', 'VL_TOT_AMT_PAYMENT_U24M_INSTALLMENTS', 'VL_MED_AMT_PAYMENT_U24M_INSTALLMENTS', 'VL_MAX_AMT_PAYMENT_U24M_INSTALLMENTS', 'VL_MIN_AMT_PAYMENT_U24M_INSTALLMENTS', 'VL_TOT_AMT_PAYMENT_U36M_INSTALLMENTS', 'VL_MED_AMT_PAYMENT_U36M_INSTALLMENTS', 'VL_MAX_AMT_PAYMENT_U36M_INSTALLMENTS', 'VL_MIN_AMT_PAYMENT_U36M_INSTALLMENTS']\n",
      "\n",
      "\n",
      "Quantidade de linhas do DataFrame: 997752\n",
      "Quantidade de colunas do DataFrame: 63\n",
      "\n",
      "\n",
      "+----------+---------------------------------------+---------------------------------------+---------------------------------------+---------------------------------------+----------------------------------------+----------------------------------------+----------------------------------------+----------------------------------------+----------------------------------------+----------------------------------------+------------------------------------------+------------------------------------------+------------------------------------------+------------------------------------------+-------------------------------------------+-------------------------------------------+-------------------------------------------+-------------------------------------------+-------------------------------------------+-------------------------------------------+--------------------------------------+--------------------------------------+--------------------------------------+--------------------------------------+--------------------------------------+--------------------------------------+--------------------------------------+--------------------------------------+---------------------------------------+---------------------------------------+---------------------------------------+---------------------------------------+---------------------------------------+---------------------------------------+---------------------------------------+---------------------------------------+---------------------------------------+---------------------------------------+---------------------------------------+---------------------------------------+-----------------------------------+-----------------------------------+-----------------------------------+-----------------------------------+-----------------------------------+-----------------------------------+-----------------------------------+-----------------------------------+------------------------------------+------------------------------------+------------------------------------+------------------------------------+------------------------------------+------------------------------------+------------------------------------+------------------------------------+------------------------------------+------------------------------------+------------------------------------+------------------------------------+---------+-----------+\n",
      "|SK_ID_PREV|QT_MAX_DAYS_INSTALMENT_U3M_INSTALLMENTS|QT_MIN_DAYS_INSTALMENT_U3M_INSTALLMENTS|QT_MAX_DAYS_INSTALMENT_U6M_INSTALLMENTS|QT_MIN_DAYS_INSTALMENT_U6M_INSTALLMENTS|QT_MAX_DAYS_INSTALMENT_U12M_INSTALLMENTS|QT_MIN_DAYS_INSTALMENT_U12M_INSTALLMENTS|QT_MAX_DAYS_INSTALMENT_U24M_INSTALLMENTS|QT_MIN_DAYS_INSTALMENT_U24M_INSTALLMENTS|QT_MAX_DAYS_INSTALMENT_U36M_INSTALLMENTS|QT_MIN_DAYS_INSTALMENT_U36M_INSTALLMENTS|QT_MAX_DAYS_ENTRY_PAYMENT_U3M_INSTALLMENTS|QT_MIN_DAYS_ENTRY_PAYMENT_U3M_INSTALLMENTS|QT_MAX_DAYS_ENTRY_PAYMENT_U6M_INSTALLMENTS|QT_MIN_DAYS_ENTRY_PAYMENT_U6M_INSTALLMENTS|QT_MAX_DAYS_ENTRY_PAYMENT_U12M_INSTALLMENTS|QT_MIN_DAYS_ENTRY_PAYMENT_U12M_INSTALLMENTS|QT_MAX_DAYS_ENTRY_PAYMENT_U24M_INSTALLMENTS|QT_MIN_DAYS_ENTRY_PAYMENT_U24M_INSTALLMENTS|QT_MAX_DAYS_ENTRY_PAYMENT_U36M_INSTALLMENTS|QT_MIN_DAYS_ENTRY_PAYMENT_U36M_INSTALLMENTS|VL_TOT_AMT_INSTALMENT_U3M_INSTALLMENTS|VL_MED_AMT_INSTALMENT_U3M_INSTALLMENTS|VL_MAX_AMT_INSTALMENT_U3M_INSTALLMENTS|VL_MIN_AMT_INSTALMENT_U3M_INSTALLMENTS|VL_TOT_AMT_INSTALMENT_U6M_INSTALLMENTS|VL_MED_AMT_INSTALMENT_U6M_INSTALLMENTS|VL_MAX_AMT_INSTALMENT_U6M_INSTALLMENTS|VL_MIN_AMT_INSTALMENT_U6M_INSTALLMENTS|VL_TOT_AMT_INSTALMENT_U12M_INSTALLMENTS|VL_MED_AMT_INSTALMENT_U12M_INSTALLMENTS|VL_MAX_AMT_INSTALMENT_U12M_INSTALLMENTS|VL_MIN_AMT_INSTALMENT_U12M_INSTALLMENTS|VL_TOT_AMT_INSTALMENT_U24M_INSTALLMENTS|VL_MED_AMT_INSTALMENT_U24M_INSTALLMENTS|VL_MAX_AMT_INSTALMENT_U24M_INSTALLMENTS|VL_MIN_AMT_INSTALMENT_U24M_INSTALLMENTS|VL_TOT_AMT_INSTALMENT_U36M_INSTALLMENTS|VL_MED_AMT_INSTALMENT_U36M_INSTALLMENTS|VL_MAX_AMT_INSTALMENT_U36M_INSTALLMENTS|VL_MIN_AMT_INSTALMENT_U36M_INSTALLMENTS|VL_TOT_AMT_PAYMENT_U3M_INSTALLMENTS|VL_MED_AMT_PAYMENT_U3M_INSTALLMENTS|VL_MAX_AMT_PAYMENT_U3M_INSTALLMENTS|VL_MIN_AMT_PAYMENT_U3M_INSTALLMENTS|VL_TOT_AMT_PAYMENT_U6M_INSTALLMENTS|VL_MED_AMT_PAYMENT_U6M_INSTALLMENTS|VL_MAX_AMT_PAYMENT_U6M_INSTALLMENTS|VL_MIN_AMT_PAYMENT_U6M_INSTALLMENTS|VL_TOT_AMT_PAYMENT_U12M_INSTALLMENTS|VL_MED_AMT_PAYMENT_U12M_INSTALLMENTS|VL_MAX_AMT_PAYMENT_U12M_INSTALLMENTS|VL_MIN_AMT_PAYMENT_U12M_INSTALLMENTS|VL_TOT_AMT_PAYMENT_U24M_INSTALLMENTS|VL_MED_AMT_PAYMENT_U24M_INSTALLMENTS|VL_MAX_AMT_PAYMENT_U24M_INSTALLMENTS|VL_MIN_AMT_PAYMENT_U24M_INSTALLMENTS|VL_TOT_AMT_PAYMENT_U36M_INSTALLMENTS|VL_MED_AMT_PAYMENT_U36M_INSTALLMENTS|VL_MAX_AMT_PAYMENT_U36M_INSTALLMENTS|VL_MIN_AMT_PAYMENT_U36M_INSTALLMENTS|PK_DATREF|PK_DAT_PROC|\n",
      "+----------+---------------------------------------+---------------------------------------+---------------------------------------+---------------------------------------+----------------------------------------+----------------------------------------+----------------------------------------+----------------------------------------+----------------------------------------+----------------------------------------+------------------------------------------+------------------------------------------+------------------------------------------+------------------------------------------+-------------------------------------------+-------------------------------------------+-------------------------------------------+-------------------------------------------+-------------------------------------------+-------------------------------------------+--------------------------------------+--------------------------------------+--------------------------------------+--------------------------------------+--------------------------------------+--------------------------------------+--------------------------------------+--------------------------------------+---------------------------------------+---------------------------------------+---------------------------------------+---------------------------------------+---------------------------------------+---------------------------------------+---------------------------------------+---------------------------------------+---------------------------------------+---------------------------------------+---------------------------------------+---------------------------------------+-----------------------------------+-----------------------------------+-----------------------------------+-----------------------------------+-----------------------------------+-----------------------------------+-----------------------------------+-----------------------------------+------------------------------------+------------------------------------+------------------------------------+------------------------------------+------------------------------------+------------------------------------+------------------------------------+------------------------------------+------------------------------------+------------------------------------+------------------------------------+------------------------------------+---------+-----------+\n",
      "|1000001   |NULL                                   |NULL                                   |NULL                                   |NULL                                   |-238.0                                  |-268.0                                  |-238.0                                  |-268.0                                  |-238.0                                  |-268.0                                  |NULL                                      |NULL                                      |NULL                                      |NULL                                      |-244.0                                     |-294.0                                     |-244.0                                     |-294.0                                     |-244.0                                     |-294.0                                     |NULL                                  |NULL                                  |NULL                                  |NULL                                  |NULL                                  |NULL                                  |NULL                                  |NULL                                  |68443.43                               |34221.71                               |62039.12                               |6404.31                                |68443.43                               |34221.71                               |62039.12                               |6404.31                                |68443.43                               |34221.71                               |62039.12                               |6404.31                                |NULL                               |NULL                               |NULL                               |NULL                               |NULL                               |NULL                               |NULL                               |NULL                               |68443.43                            |34221.71                            |62039.12                            |6404.31                             |68443.43                            |34221.71                            |62039.12                            |6404.31                             |68443.43                            |34221.71                            |62039.12                            |6404.31                             |20241019 |2024-10-19 |\n",
      "|1000002   |NULL                                   |NULL                                   |NULL                                   |NULL                                   |NULL                                    |NULL                                    |NULL                                    |NULL                                    |NULL                                    |NULL                                    |NULL                                      |NULL                                      |NULL                                      |NULL                                      |NULL                                       |NULL                                       |NULL                                       |NULL                                       |NULL                                       |NULL                                       |NULL                                  |NULL                                  |NULL                                  |NULL                                  |NULL                                  |NULL                                  |NULL                                  |NULL                                  |NULL                                   |NULL                                   |NULL                                   |NULL                                   |NULL                                   |NULL                                   |NULL                                   |NULL                                   |NULL                                   |NULL                                   |NULL                                   |NULL                                   |NULL                               |NULL                               |NULL                               |NULL                               |NULL                               |NULL                               |NULL                               |NULL                               |NULL                                |NULL                                |NULL                                |NULL                                |NULL                                |NULL                                |NULL                                |NULL                                |NULL                                |NULL                                |NULL                                |NULL                                |20241019 |2024-10-19 |\n",
      "|1000003   |-34.0                                  |-64.0                                  |-34.0                                  |-94.0                                  |-34.0                                   |-94.0                                   |-34.0                                   |-94.0                                   |-34.0                                   |-94.0                                   |-49.0                                     |-81.0                                     |-49.0                                     |-108.0                                    |-49.0                                      |-108.0                                     |-49.0                                      |-108.0                                     |-49.0                                      |-108.0                                     |9902.7                                |4951.35                               |4951.35                               |4951.35                               |14854.05                              |4951.35                               |4951.35                               |4951.35                               |14854.05                               |4951.35                                |4951.35                                |4951.35                                |14854.05                               |4951.35                                |4951.35                                |4951.35                                |14854.05                               |4951.35                                |4951.35                                |4951.35                                |9902.7                             |4951.35                            |4951.35                            |4951.35                            |14854.05                           |4951.35                            |4951.35                            |4951.35                            |14854.05                            |4951.35                             |4951.35                             |4951.35                             |14854.05                            |4951.35                             |4951.35                             |4951.35                             |14854.05                            |4951.35                             |4951.35                             |4951.35                             |20241019 |2024-10-19 |\n",
      "|1000004   |NULL                                   |NULL                                   |NULL                                   |NULL                                   |NULL                                    |NULL                                    |-682.0                                  |-712.0                                  |-682.0                                  |-862.0                                  |NULL                                      |NULL                                      |NULL                                      |NULL                                      |NULL                                       |NULL                                       |-695.0                                     |-752.0                                     |-695.0                                     |-881.0                                     |NULL                                  |NULL                                  |NULL                                  |NULL                                  |NULL                                  |NULL                                  |NULL                                  |NULL                                  |NULL                                   |NULL                                   |NULL                                   |NULL                                   |16567.61                               |8283.8                                 |13176.5                                |3391.11                                |33523.16                               |4789.02                                |13176.5                                |3391.11                                |NULL                               |NULL                               |NULL                               |NULL                               |NULL                               |NULL                               |NULL                               |NULL                               |NULL                                |NULL                                |NULL                                |NULL                                |16567.61                            |8283.8                              |13176.5                             |3391.11                             |33523.16                            |4789.02                             |13176.5                             |3391.11                             |20241019 |2024-10-19 |\n",
      "|1000005   |NULL                                   |NULL                                   |NULL                                   |NULL                                   |NULL                                    |NULL                                    |NULL                                    |NULL                                    |NULL                                    |NULL                                    |NULL                                      |NULL                                      |NULL                                      |NULL                                      |NULL                                       |NULL                                       |NULL                                       |NULL                                       |NULL                                       |NULL                                       |NULL                                  |NULL                                  |NULL                                  |NULL                                  |NULL                                  |NULL                                  |NULL                                  |NULL                                  |NULL                                   |NULL                                   |NULL                                   |NULL                                   |NULL                                   |NULL                                   |NULL                                   |NULL                                   |NULL                                   |NULL                                   |NULL                                   |NULL                                   |NULL                               |NULL                               |NULL                               |NULL                               |NULL                               |NULL                               |NULL                               |NULL                               |NULL                                |NULL                                |NULL                                |NULL                                |NULL                                |NULL                                |NULL                                |NULL                                |NULL                                |NULL                                |NULL                                |NULL                                |20241019 |2024-10-19 |\n",
      "+----------+---------------------------------------+---------------------------------------+---------------------------------------+---------------------------------------+----------------------------------------+----------------------------------------+----------------------------------------+----------------------------------------+----------------------------------------+----------------------------------------+------------------------------------------+------------------------------------------+------------------------------------------+------------------------------------------+-------------------------------------------+-------------------------------------------+-------------------------------------------+-------------------------------------------+-------------------------------------------+-------------------------------------------+--------------------------------------+--------------------------------------+--------------------------------------+--------------------------------------+--------------------------------------+--------------------------------------+--------------------------------------+--------------------------------------+---------------------------------------+---------------------------------------+---------------------------------------+---------------------------------------+---------------------------------------+---------------------------------------+---------------------------------------+---------------------------------------+---------------------------------------+---------------------------------------+---------------------------------------+---------------------------------------+-----------------------------------+-----------------------------------+-----------------------------------+-----------------------------------+-----------------------------------+-----------------------------------+-----------------------------------+-----------------------------------+------------------------------------+------------------------------------+------------------------------------+------------------------------------+------------------------------------+------------------------------------+------------------------------------+------------------------------------+------------------------------------+------------------------------------+------------------------------------+------------------------------------+---------+-----------+\n",
      "only showing top 5 rows\n",
      "\n"
     ]
    }
   ],
   "source": [
    "# Adicionando as colunas de data ao DataFrame.\n",
    "df_temp_03 = df_temp_02.withColumn('PK_DATREF', date_format(current_date(), 'yyyyMMdd')) \\\n",
    "                       .withColumn('PK_DAT_PROC', current_date())\n",
    "\n",
    "\n",
    "# Quantidade e nome das variáveis criadas.\n",
    "nomes_cols = df_temp_03.columns\n",
    "nomes_cols_novas = nomes_cols[1:-2]\n",
    "print('Quantidade Total de Variáveis Criadas:', len(df_temp_03.columns) - 3)\n",
    "print('Nomes das Variáveis Criadas:', nomes_cols_novas)\n",
    "print('')\n",
    "print('')\n",
    "\n",
    "# Quantidade de linhas do DataFrame.\n",
    "num_rows_df = df_temp_03.count()\n",
    "\n",
    "# Quantidade de colunas do DataFrame.\n",
    "num_columns_df = len(df_temp_03.columns)\n",
    "\n",
    "# Imprimir o resultado de número de linhas e colunas.\n",
    "print(f'Quantidade de linhas do DataFrame: {num_rows_df}')\n",
    "print(f'Quantidade de colunas do DataFrame: {num_columns_df}')\n",
    "print('')\n",
    "print('')\n",
    "\n",
    "# Mostrando o novo DataFrame com as variáveis criadas.\n",
    "df_temp_03.show(5, False)"
   ]
  },
  {
   "cell_type": "markdown",
   "metadata": {},
   "source": [
    "### Salvando a tabela sumarizada"
   ]
  },
  {
   "cell_type": "code",
   "execution_count": 11,
   "metadata": {},
   "outputs": [],
   "source": [
    "df_temp_03.write.partitionBy(\"PK_DATREF\").parquet('../database/feature_store/book_instalments')"
   ]
  }
 ],
 "metadata": {
  "kernelspec": {
   "display_name": "podbank-JbT9vSXD",
   "language": "python",
   "name": "python3"
  },
  "language_info": {
   "codemirror_mode": {
    "name": "ipython",
    "version": 3
   },
   "file_extension": ".py",
   "mimetype": "text/x-python",
   "name": "python",
   "nbconvert_exporter": "python",
   "pygments_lexer": "ipython3",
   "version": "3.12.5"
  }
 },
 "nbformat": 4,
 "nbformat_minor": 2
}
